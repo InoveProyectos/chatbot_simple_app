{
  "nbformat": 4,
  "nbformat_minor": 0,
  "metadata": {
    "colab": {
      "provenance": [],
      "collapsed_sections": []
    },
    "kernelspec": {
      "display_name": "Python 3",
      "name": "python3"
    }
  },
  "cells": [
    {
      "cell_type": "markdown",
      "metadata": {
        "id": "jmSf70qa41Ut"
      },
      "source": [
        "<a href=\"https://www.inove.com.ar\"><img src=\"https://raw.githubusercontent.com/InoveAlumnos/dataset_analytics_python/master/images/PA%20Banner.png\" width=\"1000\" align=\"center\"></a>\n",
        "\n",
        "\n",
        "# NLP - Bot basado en reglas con Tensorflow\n",
        "Este ejemplo consiste en armar BOT simple basado en una red neuronal con Tensorflow\n",
        "\n",
        "v2.0"
      ]
    },
    {
      "cell_type": "code",
      "source": [
        "import json\n",
        "import string\n",
        "import random \n",
        "import numpy as np\n",
        "\n",
        "import tensorflow as tf \n",
        "from tensorflow.keras import Sequential \n",
        "from tensorflow.keras.layers import Dense, Dropout\n",
        "\n",
        "import pickle"
      ],
      "metadata": {
        "id": "MXwyiPUBdA3i"
      },
      "execution_count": 1,
      "outputs": []
    },
    {
      "cell_type": "markdown",
      "source": [
        "# Recolectar datos\n",
        "<img src=\"https://raw.githubusercontent.com/InoveAlumnos/dataset_analytics_python/master/images/Pipeline1.png\" width=\"1000\" align=\"middle\">"
      ],
      "metadata": {
        "id": "AZJ-9ME-zz9C"
      }
    },
    {
      "cell_type": "code",
      "source": [
        "# Dataset en formato JSON que representa las posibles preguntas (patterns)\n",
        "# y las posibles respuestas por categoría (tag)\n",
        "data = {\"intents\": [\n",
        "             {\"tag\": \"bienvenida\",\n",
        "              \"patterns\": [\"Hola\", \"¿Cómo estás?\", \"¿Qué tal?\"],\n",
        "              \"responses\": [\"Hola!\", \"Hola, ¿Cómo estás?\"],\n",
        "             },\n",
        "             {\"tag\": \"nombre\",\n",
        "              \"patterns\": [\"¿Cúal es tu nombre?\", \"¿Quién sos?\"],\n",
        "              \"responses\": [\"Mi nombre es MarvelBOT\", \"Yo soy MarvelBOT\"]\n",
        "             },\n",
        "            {\"tag\": \"contacto\",\n",
        "              \"patterns\": [\"contacto\", \"número de contacto\", \"número de teléfono\", \"número de whatsapp\", \"whatsapp\"],\n",
        "              \"responses\": [\"Podes contactarnos al siguiente número +54-9-11-2154-4777\", \"Contactonos al whatsapp número +54-9-11-2154-4777\"]\n",
        "             },\n",
        "            {\"tag\": \"envios\",\n",
        "              \"patterns\": [\"¿Realizan envios?\", \"¿Cómo me llega el paquete?\"],\n",
        "              \"responses\": [\"Los envios se realizan por correo, lo enviaremos a la dirección que registraste en la página\"]\n",
        "             },\n",
        "            {\"tag\": \"precios\",\n",
        "              \"patterns\": [\"precio\", \"Me podrás pasar los precios\", \"¿Cuánto vale?\", \"¿Cuánto sale?\"],\n",
        "              \"responses\": [\"En el catálogo podrás encontrar los precios de todos nuestros productos en stock\"]\n",
        "             },\n",
        "            {\"tag\": \"pagos\",\n",
        "              \"patterns\": [\"medios de pago\", \"tarjeta de crédito\", \"tarjetas\", \"cuotas\"],\n",
        "              \"responses\": [\"Contactanos al whatsapp número +54-9-11-2154-4777 para conocer los beneficios y formas de pago vigentes\"]\n",
        "             },\n",
        "            {\"tag\": \"stock\",\n",
        "              \"patterns\": [\"Esto está disponible\", \"¿Tenes stock?\", \"¿Hay stock?\"],\n",
        "              \"responses\": [\"Los productos publicados están en stock\"]\n",
        "             },\n",
        "            {\"tag\": \"agradecimientos\",\n",
        "              \"patterns\": [ \"Muchas gracias\", \"Gracias\"],\n",
        "              \"responses\": [\"Por nada!, cualquier otra consulta podes escribirnos\"]\n",
        "             },\n",
        "             {\"tag\": \"despedida\",\n",
        "              \"patterns\": [ \"Chau\", \"Hasta luego!\"],\n",
        "              \"responses\": [\"Hasta luego!\", \"Hablamos luego!\"]\n",
        "             }\n",
        "]}"
      ],
      "metadata": {
        "id": "1D8L5lA4zmMT"
      },
      "execution_count": 2,
      "outputs": []
    },
    {
      "cell_type": "markdown",
      "source": [
        "# Procesar datos\n",
        "<img src=\"https://raw.githubusercontent.com/InoveAlumnos/dataset_analytics_python/master/images/Pipeline2.png\" width=\"1000\" align=\"middle\">"
      ],
      "metadata": {
        "id": "PM2E2ylVz9HK"
      }
    },
    {
      "cell_type": "markdown",
      "source": [
        "### Herramientas de preprocesamiento de datos\n",
        "Entre las tareas de procesamiento de texto en español se implementa:\n",
        "- Quitar números\n",
        "- Quitar símbolos de puntuación\n",
        "- Quitar caracteres acentuados"
      ],
      "metadata": {
        "id": "d7kWJClU0Zs_"
      }
    },
    {
      "cell_type": "code",
      "source": [
        "import re\n",
        "import string\n",
        "\n",
        "# El preprocesamento en castellano requiere más trabajo\n",
        "\n",
        "def preprocess_clean_text(text):\n",
        "    # pasar a minúsculas\n",
        "    text = text.lower()\n",
        "    # quitar números\n",
        "    pattern = r'[0-9\\n]'\n",
        "    text = re.sub(pattern, '', text)\n",
        "    # quitar caracteres de puntiación\n",
        "    text = ''.join([c for c in text if c not in (string.punctuation+\"¡\"+\"¿\")])\n",
        "    # quitar caracteres con acento\n",
        "    text = re.sub(r'[àáâä]', \"a\", text)\n",
        "    text = re.sub(r'[éèêë]', \"e\", text)\n",
        "    text = re.sub(r'[íìîï]', \"i\", text)\n",
        "    text = re.sub(r'[òóôö]', \"o\", text)\n",
        "    text = re.sub(r'[úùûü]', \"u\", text)\n",
        "    return text"
      ],
      "metadata": {
        "id": "NEPO44To0XDE"
      },
      "execution_count": 3,
      "outputs": []
    },
    {
      "cell_type": "code",
      "source": [
        "# En castellano utilizamos estos dos signos además de los genéricos del inglés\n",
        "string.punctuation + \"¡\" + \"¿\""
      ],
      "metadata": {
        "id": "rZsr8Em107nE",
        "colab": {
          "base_uri": "https://localhost:8080/",
          "height": 35
        },
        "outputId": "0c8088c6-1732-497e-e10f-a43e15da853f"
      },
      "execution_count": 4,
      "outputs": [
        {
          "output_type": "execute_result",
          "data": {
            "text/plain": [
              "'!\"#$%&\\'()*+,-./:;<=>?@[\\\\]^_`{|}~¡¿'"
            ],
            "application/vnd.google.colaboratory.intrinsic+json": {
              "type": "string"
            }
          },
          "metadata": {},
          "execution_count": 4
        }
      ]
    },
    {
      "cell_type": "code",
      "source": [
        "# Demostración de como funciona el procesos de preprocesamiento\n",
        "preprocess_clean_text(\"¿cómo5!\")"
      ],
      "metadata": {
        "id": "iJV1-EYR1BYk",
        "colab": {
          "base_uri": "https://localhost:8080/",
          "height": 35
        },
        "outputId": "4277fc66-1816-4cb5-e9b8-b8aa1468cbce"
      },
      "execution_count": 5,
      "outputs": [
        {
          "output_type": "execute_result",
          "data": {
            "text/plain": [
              "'como'"
            ],
            "application/vnd.google.colaboratory.intrinsic+json": {
              "type": "string"
            }
          },
          "metadata": {},
          "execution_count": 5
        }
      ]
    },
    {
      "cell_type": "markdown",
      "source": [
        "### Lematizacion\n",
        "La lematización es el proceso de llevar una palabra a su raiz (a la palabra raiz del diccionario).\n",
        "- Primero debemos contar una tabla de transformación de lematización, en donde por cada palabra de nuestro vocabulario nos retorne la palabra raiz (lookup table).\n",
        "- Este proceso nos permitirá reducir la cantidad de palabras distintas que tendrá que manejar el bot (acotar el vocablario)."
      ],
      "metadata": {
        "id": "vzE4ZjN-6lln"
      }
    },
    {
      "cell_type": "code",
      "source": [
        "import os\n",
        "import gdown\n",
        "if os.access('lematizacion-es.pickle', os.F_OK) is False:\n",
        "    if os.access('lematizacion-es.zip', os.F_OK) is False:\n",
        "        url = 'https://drive.google.com/uc?id=16leuM9PuFXAkmw34XeQy-84h8WGAYxJw&export=download'\n",
        "        output = 'lematizacion-es.zip'\n",
        "        gdown.download(url, output, quiet=False)\n",
        "    !unzip -q lematizacion-es.zip\n",
        "else:\n",
        "    print(\"El archivo ya se encuentra descargado\")"
      ],
      "metadata": {
        "id": "QvETOouHynAu",
        "colab": {
          "base_uri": "https://localhost:8080/"
        },
        "outputId": "1c313e49-faec-42e8-bd19-510adb6c1006"
      },
      "execution_count": 6,
      "outputs": [
        {
          "output_type": "stream",
          "name": "stderr",
          "text": [
            "Downloading...\n",
            "From: https://drive.google.com/uc?id=16leuM9PuFXAkmw34XeQy-84h8WGAYxJw&export=download\n",
            "To: /content/lematizacion-es.zip\n",
            "100%|██████████| 5.42M/5.42M [00:00<00:00, 101MB/s]\n"
          ]
        }
      ]
    },
    {
      "cell_type": "code",
      "source": [
        "with open(\"lematizacion-es.pickle\",'rb') as fi:\n",
        "    lemma_lookupTable = pickle.load(fi)"
      ],
      "metadata": {
        "id": "o1BGCceizG5b"
      },
      "execution_count": 7,
      "outputs": []
    },
    {
      "cell_type": "code",
      "source": [
        "# Ejemplo del funcionamiento de lematización\n",
        "palabras_ensayo = [\"estar\", \"estoy\", \"estás\", \"está\", \"estamos\" ,\"estais\", \"estan\", \"estaremos\", \"estuvieron\"]\n",
        "for palabra in palabras_ensayo:\n",
        "    print(f\"{palabra} -> {lemma_lookupTable.get(palabra)}\")"
      ],
      "metadata": {
        "id": "dKCBpR2Z_u6L",
        "colab": {
          "base_uri": "https://localhost:8080/"
        },
        "outputId": "3d74d3d8-d93c-4d2a-fc82-81614b85a647"
      },
      "execution_count": 8,
      "outputs": [
        {
          "output_type": "stream",
          "name": "stdout",
          "text": [
            "estar -> estar\n",
            "estoy -> estar\n",
            "estás -> estar\n",
            "está -> estar\n",
            "estamos -> estar\n",
            "estais -> estar\n",
            "estan -> estar\n",
            "estaremos -> estar\n",
            "estuvieron -> estar\n"
          ]
        }
      ]
    },
    {
      "cell_type": "markdown",
      "source": [
        "### Preprocesado del dataset"
      ],
      "metadata": {
        "id": "h2Z_jqvQ_xm7"
      }
    },
    {
      "cell_type": "code",
      "source": [
        "words = []\n",
        "classes = []\n",
        "doc_X = []\n",
        "doc_y = []\n",
        "# Tokenizar cada \"pattern\" y agregar cada palabra al vocabulario (vocabulary)\n",
        "# Los tokens que se toman de cada pattern se agrega a doc_X\n",
        "# Cada tag se agrega a doc_y\n",
        "for intent in data[\"intents\"]:\n",
        "    for pattern in intent[\"patterns\"]:\n",
        "        # trasformar el patron a tokens\n",
        "        tokens = preprocess_clean_text(pattern).split(\" \")\n",
        "        # lematizar los tokens\n",
        "        lemma_words = []\n",
        "        for token in tokens:\n",
        "            lemma = lemma_lookupTable.get(token)\n",
        "            if lemma is not None:\n",
        "                lemma_words.append(lemma)\n",
        "            else:\n",
        "                print(\"UNK:\", token)\n",
        "        \n",
        "        if not lemma_words:\n",
        "            continue\n",
        "        \n",
        "        words += lemma_words\n",
        "        doc_X.append(pattern)\n",
        "        doc_y.append(intent[\"tag\"])\n",
        "    \n",
        "    # Agregar el tag a las clases\n",
        "    if intent[\"tag\"] not in classes:\n",
        "        classes.append(intent[\"tag\"])\n",
        "\n",
        "# Elminar duplicados con \"set\" y ordenar el vocubulario y las clases por orden alfabético\n",
        "vocab = sorted(set(words))\n",
        "classes = sorted(set(classes))\n",
        "len(vocab)"
      ],
      "metadata": {
        "id": "X9HsCV870EDV",
        "colab": {
          "base_uri": "https://localhost:8080/"
        },
        "outputId": "7195d589-1c79-4f26-9278-794504d23752"
      },
      "execution_count": 9,
      "outputs": [
        {
          "output_type": "stream",
          "name": "stdout",
          "text": [
            "UNK: que\n",
            "UNK: sos\n",
            "UNK: me\n",
            "UNK: me\n",
            "UNK: hasta\n",
            "UNK: luego\n"
          ]
        },
        {
          "output_type": "execute_result",
          "data": {
            "text/plain": [
              "38"
            ]
          },
          "metadata": {},
          "execution_count": 9
        }
      ]
    },
    {
      "cell_type": "markdown",
      "source": [
        "# Explorar datos\n",
        "<img src=\"https://raw.githubusercontent.com/InoveAlumnos/dataset_analytics_python/master/images/Pipeline3.png\" width=\"1000\" align=\"middle\">"
      ],
      "metadata": {
        "id": "VMQcLbEM3fTZ"
      }
    },
    {
      "cell_type": "code",
      "source": [
        "print(\"vocab:\", vocab)\n",
        "print(\"classes:\", classes)\n",
        "print(\"doc_X:\", doc_X)\n",
        "print(\"doc_y:\", doc_y)"
      ],
      "metadata": {
        "id": "tUweP3bG3hUT",
        "colab": {
          "base_uri": "https://localhost:8080/"
        },
        "outputId": "9c053c92-5f10-47a1-8f3a-8397f452a8ee"
      },
      "execution_count": 10,
      "outputs": [
        {
          "output_type": "stream",
          "name": "stdout",
          "text": [
            "vocab: ['adios', 'comer', 'contacto', 'credito', 'cual', 'cuanto', 'cuota', 'dar', 'disponible', 'el', 'envio', 'este', 'gracia', 'haber', 'hola', 'llegar', 'los', 'medio', 'mucho', 'nombre', 'numero', 'pago', 'paquete', 'pasar', 'precio', 'pudrir', 'quien', 'realizar', 'salir', 'ser', 'stock', 'tal', 'tarjeta', 'telefono', 'tener', 'tu', 'valer', 'whatsapp']\n",
            "classes: ['agradecimientos', 'bienvenida', 'contacto', 'despedida', 'envios', 'nombre', 'pagos', 'precios', 'stock']\n",
            "doc_X: ['Hola', '¿Cómo estás?', '¿Qué tal?', '¿Cúal es tu nombre?', '¿Quién sos?', 'contacto', 'número de contacto', 'número de teléfono', 'número de whatsapp', 'whatsapp', '¿Realizan envios?', '¿Cómo me llega el paquete?', 'precio', 'Me podrás pasar los precios', '¿Cuánto vale?', '¿Cuánto sale?', 'medios de pago', 'tarjeta de crédito', 'tarjetas', 'cuotas', 'Esto está disponible', '¿Tenes stock?', '¿Hay stock?', 'Muchas gracias', 'Gracias', 'Chau']\n",
            "doc_y: ['bienvenida', 'bienvenida', 'bienvenida', 'nombre', 'nombre', 'contacto', 'contacto', 'contacto', 'contacto', 'contacto', 'envios', 'envios', 'precios', 'precios', 'precios', 'precios', 'pagos', 'pagos', 'pagos', 'pagos', 'stock', 'stock', 'stock', 'agradecimientos', 'agradecimientos', 'despedida']\n"
          ]
        }
      ]
    },
    {
      "cell_type": "code",
      "source": [
        "doc_y_encoded = [classes.index(label) for label in doc_y]\n",
        "doc_y_encoded"
      ],
      "metadata": {
        "id": "Po1JduvCpezn",
        "colab": {
          "base_uri": "https://localhost:8080/"
        },
        "outputId": "5e20a62d-9836-49a0-8079-b97184325068"
      },
      "execution_count": 11,
      "outputs": [
        {
          "output_type": "execute_result",
          "data": {
            "text/plain": [
              "[1, 1, 1, 5, 5, 2, 2, 2, 2, 2, 4, 4, 7, 7, 7, 7, 6, 6, 6, 6, 8, 8, 8, 0, 0, 3]"
            ]
          },
          "metadata": {},
          "execution_count": 11
        }
      ]
    },
    {
      "cell_type": "markdown",
      "source": [
        "# Entrenar modelo\n",
        "<img src=\"https://raw.githubusercontent.com/InoveAlumnos/dataset_analytics_python/master/images/Pipeline4.png\" width=\"1000\" align=\"middle\">"
      ],
      "metadata": {
        "id": "_PUzAtcW3zsO"
      }
    },
    {
      "cell_type": "code",
      "source": [
        "X_train = []\n",
        "y_train = []\n",
        "\n",
        "for doc, label in zip(doc_X, doc_y_encoded):\n",
        "    # Transformar la pregunta (input) en tokens y lematizar\n",
        "    lemma_words = []\n",
        "    tokens = preprocess_clean_text(doc).split(\" \")\n",
        "    for token in tokens:\n",
        "        lemma = lemma_lookupTable.get(token)\n",
        "        if lemma is not None:\n",
        "            lemma_words.append(lemma)\n",
        "\n",
        "    # Transformar los tokens en \"Bag of words\" (arrays de 1 y 0)\n",
        "    bow = []\n",
        "    for word in vocab:\n",
        "        bow.append(1) if word in lemma_words else bow.append(0)\n",
        "\n",
        "    # Crear el array de salida (class output) correspondiente\n",
        "    output_row = list([0] * len(classes))\n",
        "    output_row[label] = 1\n",
        "\n",
        "    \n",
        "    print(\"X:\", bow, \"y:\", output_row)\n",
        "    X_train.append(bow)\n",
        "    y_train.append(output_row)\n",
        "\n",
        "X_train = np.array(X_train)\n",
        "y_train = np.array(y_train)"
      ],
      "metadata": {
        "id": "t7s9zLeaPByu",
        "colab": {
          "base_uri": "https://localhost:8080/"
        },
        "outputId": "a7beb3f2-7c18-4113-844d-8f94387fffd8"
      },
      "execution_count": 13,
      "outputs": [
        {
          "output_type": "stream",
          "name": "stdout",
          "text": [
            "X: [0, 0, 0, 0, 0, 0, 0, 0, 0, 0, 0, 0, 0, 0, 1, 0, 0, 0, 0, 0, 0, 0, 0, 0, 0, 0, 0, 0, 0, 0, 0, 0, 0, 0, 0, 0, 0, 0] y: [0, 1, 0, 0, 0, 0, 0, 0, 0]\n",
            "X: [0, 1, 0, 0, 0, 0, 0, 0, 0, 0, 0, 1, 0, 0, 0, 0, 0, 0, 0, 0, 0, 0, 0, 0, 0, 0, 0, 0, 0, 0, 0, 0, 0, 0, 0, 0, 0, 0] y: [0, 1, 0, 0, 0, 0, 0, 0, 0]\n",
            "X: [0, 0, 0, 0, 0, 0, 0, 0, 0, 0, 0, 0, 0, 0, 0, 0, 0, 0, 0, 0, 0, 0, 0, 0, 0, 0, 0, 0, 0, 0, 0, 1, 0, 0, 0, 0, 0, 0] y: [0, 1, 0, 0, 0, 0, 0, 0, 0]\n",
            "X: [0, 0, 0, 0, 1, 0, 0, 0, 0, 0, 0, 0, 0, 0, 0, 0, 0, 0, 0, 1, 0, 0, 0, 0, 0, 0, 0, 0, 0, 1, 0, 0, 0, 0, 0, 1, 0, 0] y: [0, 0, 0, 0, 0, 1, 0, 0, 0]\n",
            "X: [0, 0, 0, 0, 0, 0, 0, 0, 0, 0, 0, 0, 0, 0, 0, 0, 0, 0, 0, 0, 0, 0, 0, 0, 0, 0, 1, 0, 0, 0, 0, 0, 0, 0, 0, 0, 0, 0] y: [0, 0, 0, 0, 0, 1, 0, 0, 0]\n",
            "X: [0, 0, 1, 0, 0, 0, 0, 0, 0, 0, 0, 0, 0, 0, 0, 0, 0, 0, 0, 0, 0, 0, 0, 0, 0, 0, 0, 0, 0, 0, 0, 0, 0, 0, 0, 0, 0, 0] y: [0, 0, 1, 0, 0, 0, 0, 0, 0]\n",
            "X: [0, 0, 1, 0, 0, 0, 0, 1, 0, 0, 0, 0, 0, 0, 0, 0, 0, 0, 0, 0, 1, 0, 0, 0, 0, 0, 0, 0, 0, 0, 0, 0, 0, 0, 0, 0, 0, 0] y: [0, 0, 1, 0, 0, 0, 0, 0, 0]\n",
            "X: [0, 0, 0, 0, 0, 0, 0, 1, 0, 0, 0, 0, 0, 0, 0, 0, 0, 0, 0, 0, 1, 0, 0, 0, 0, 0, 0, 0, 0, 0, 0, 0, 0, 1, 0, 0, 0, 0] y: [0, 0, 1, 0, 0, 0, 0, 0, 0]\n",
            "X: [0, 0, 0, 0, 0, 0, 0, 1, 0, 0, 0, 0, 0, 0, 0, 0, 0, 0, 0, 0, 1, 0, 0, 0, 0, 0, 0, 0, 0, 0, 0, 0, 0, 0, 0, 0, 0, 1] y: [0, 0, 1, 0, 0, 0, 0, 0, 0]\n",
            "X: [0, 0, 0, 0, 0, 0, 0, 0, 0, 0, 0, 0, 0, 0, 0, 0, 0, 0, 0, 0, 0, 0, 0, 0, 0, 0, 0, 0, 0, 0, 0, 0, 0, 0, 0, 0, 0, 1] y: [0, 0, 1, 0, 0, 0, 0, 0, 0]\n",
            "X: [0, 0, 0, 0, 0, 0, 0, 0, 0, 0, 1, 0, 0, 0, 0, 0, 0, 0, 0, 0, 0, 0, 0, 0, 0, 0, 0, 1, 0, 0, 0, 0, 0, 0, 0, 0, 0, 0] y: [0, 0, 0, 0, 1, 0, 0, 0, 0]\n",
            "X: [0, 1, 0, 0, 0, 0, 0, 0, 0, 1, 0, 0, 0, 0, 0, 1, 0, 0, 0, 0, 0, 0, 1, 0, 0, 0, 0, 0, 0, 0, 0, 0, 0, 0, 0, 0, 0, 0] y: [0, 0, 0, 0, 1, 0, 0, 0, 0]\n",
            "X: [0, 0, 0, 0, 0, 0, 0, 0, 0, 0, 0, 0, 0, 0, 0, 0, 0, 0, 0, 0, 0, 0, 0, 0, 1, 0, 0, 0, 0, 0, 0, 0, 0, 0, 0, 0, 0, 0] y: [0, 0, 0, 0, 0, 0, 0, 1, 0]\n",
            "X: [0, 0, 0, 0, 0, 0, 0, 0, 0, 0, 0, 0, 0, 0, 0, 0, 1, 0, 0, 0, 0, 0, 0, 1, 1, 1, 0, 0, 0, 0, 0, 0, 0, 0, 0, 0, 0, 0] y: [0, 0, 0, 0, 0, 0, 0, 1, 0]\n",
            "X: [0, 0, 0, 0, 0, 1, 0, 0, 0, 0, 0, 0, 0, 0, 0, 0, 0, 0, 0, 0, 0, 0, 0, 0, 0, 0, 0, 0, 0, 0, 0, 0, 0, 0, 0, 0, 1, 0] y: [0, 0, 0, 0, 0, 0, 0, 1, 0]\n",
            "X: [0, 0, 0, 0, 0, 1, 0, 0, 0, 0, 0, 0, 0, 0, 0, 0, 0, 0, 0, 0, 0, 0, 0, 0, 0, 0, 0, 0, 1, 0, 0, 0, 0, 0, 0, 0, 0, 0] y: [0, 0, 0, 0, 0, 0, 0, 1, 0]\n",
            "X: [0, 0, 0, 0, 0, 0, 0, 1, 0, 0, 0, 0, 0, 0, 0, 0, 0, 1, 0, 0, 0, 1, 0, 0, 0, 0, 0, 0, 0, 0, 0, 0, 0, 0, 0, 0, 0, 0] y: [0, 0, 0, 0, 0, 0, 1, 0, 0]\n",
            "X: [0, 0, 0, 1, 0, 0, 0, 1, 0, 0, 0, 0, 0, 0, 0, 0, 0, 0, 0, 0, 0, 0, 0, 0, 0, 0, 0, 0, 0, 0, 0, 0, 1, 0, 0, 0, 0, 0] y: [0, 0, 0, 0, 0, 0, 1, 0, 0]\n",
            "X: [0, 0, 0, 0, 0, 0, 0, 0, 0, 0, 0, 0, 0, 0, 0, 0, 0, 0, 0, 0, 0, 0, 0, 0, 0, 0, 0, 0, 0, 0, 0, 0, 1, 0, 0, 0, 0, 0] y: [0, 0, 0, 0, 0, 0, 1, 0, 0]\n",
            "X: [0, 0, 0, 0, 0, 0, 1, 0, 0, 0, 0, 0, 0, 0, 0, 0, 0, 0, 0, 0, 0, 0, 0, 0, 0, 0, 0, 0, 0, 0, 0, 0, 0, 0, 0, 0, 0, 0] y: [0, 0, 0, 0, 0, 0, 1, 0, 0]\n",
            "X: [0, 0, 0, 0, 0, 0, 0, 0, 1, 0, 0, 1, 0, 0, 0, 0, 0, 0, 0, 0, 0, 0, 0, 0, 0, 0, 0, 0, 0, 0, 0, 0, 0, 0, 0, 0, 0, 0] y: [0, 0, 0, 0, 0, 0, 0, 0, 1]\n",
            "X: [0, 0, 0, 0, 0, 0, 0, 0, 0, 0, 0, 0, 0, 0, 0, 0, 0, 0, 0, 0, 0, 0, 0, 0, 0, 0, 0, 0, 0, 0, 1, 0, 0, 0, 1, 0, 0, 0] y: [0, 0, 0, 0, 0, 0, 0, 0, 1]\n",
            "X: [0, 0, 0, 0, 0, 0, 0, 0, 0, 0, 0, 0, 0, 1, 0, 0, 0, 0, 0, 0, 0, 0, 0, 0, 0, 0, 0, 0, 0, 0, 1, 0, 0, 0, 0, 0, 0, 0] y: [0, 0, 0, 0, 0, 0, 0, 0, 1]\n",
            "X: [0, 0, 0, 0, 0, 0, 0, 0, 0, 0, 0, 0, 1, 0, 0, 0, 0, 0, 1, 0, 0, 0, 0, 0, 0, 0, 0, 0, 0, 0, 0, 0, 0, 0, 0, 0, 0, 0] y: [1, 0, 0, 0, 0, 0, 0, 0, 0]\n",
            "X: [0, 0, 0, 0, 0, 0, 0, 0, 0, 0, 0, 0, 1, 0, 0, 0, 0, 0, 0, 0, 0, 0, 0, 0, 0, 0, 0, 0, 0, 0, 0, 0, 0, 0, 0, 0, 0, 0] y: [1, 0, 0, 0, 0, 0, 0, 0, 0]\n",
            "X: [1, 0, 0, 0, 0, 0, 0, 0, 0, 0, 0, 0, 0, 0, 0, 0, 0, 0, 0, 0, 0, 0, 0, 0, 0, 0, 0, 0, 0, 0, 0, 0, 0, 0, 0, 0, 0, 0] y: [0, 0, 0, 1, 0, 0, 0, 0, 0]\n"
          ]
        }
      ]
    },
    {
      "cell_type": "code",
      "source": [
        "X_train.shape"
      ],
      "metadata": {
        "id": "G_zR85n9sE3k",
        "colab": {
          "base_uri": "https://localhost:8080/"
        },
        "outputId": "312309d0-86f3-4c57-c363-f825d08e3bef"
      },
      "execution_count": 14,
      "outputs": [
        {
          "output_type": "execute_result",
          "data": {
            "text/plain": [
              "(26, 38)"
            ]
          },
          "metadata": {},
          "execution_count": 14
        }
      ]
    },
    {
      "cell_type": "code",
      "source": [
        "y_train.shape"
      ],
      "metadata": {
        "colab": {
          "base_uri": "https://localhost:8080/"
        },
        "id": "ZaELTQ8-46en",
        "outputId": "aff2cae1-63aa-444e-a98d-53db9fcacfbe"
      },
      "execution_count": 15,
      "outputs": [
        {
          "output_type": "execute_result",
          "data": {
            "text/plain": [
              "(26, 9)"
            ]
          },
          "metadata": {},
          "execution_count": 15
        }
      ]
    },
    {
      "cell_type": "code",
      "source": [
        "input_shape = X_train.shape[1]\n",
        "output_shape = y_train.shape[1]\n",
        "print(\"input:\", input_shape, \"output:\", output_shape)"
      ],
      "metadata": {
        "id": "GtyHpTUarCVK",
        "colab": {
          "base_uri": "https://localhost:8080/"
        },
        "outputId": "f9dc3344-f55e-417e-f3e6-7cf7328d5da8"
      },
      "execution_count": 19,
      "outputs": [
        {
          "output_type": "stream",
          "name": "stdout",
          "text": [
            "input: 38 output: 9\n"
          ]
        }
      ]
    },
    {
      "cell_type": "code",
      "source": [
        "# Entrenamiento del modelo DNN\n",
        "# - Modelo secuencial\n",
        "# - Con regularización\n",
        "# - softmax y optimizador Adam\n",
        "model = Sequential()\n",
        "model.add(Dense(128, activation=\"relu\", input_shape=(input_shape,)))\n",
        "model.add(Dropout(0.5))\n",
        "model.add(Dense(64, activation=\"relu\"))\n",
        "model.add(Dropout(0.5))\n",
        "model.add(Dense(output_shape, activation = \"softmax\"))\n",
        "\n",
        "model.compile(loss='categorical_crossentropy',\n",
        "              optimizer=\"Adam\",\n",
        "              metrics=[\"accuracy\"])\n",
        "print(model.summary())"
      ],
      "metadata": {
        "id": "AXA82FbedobS",
        "colab": {
          "base_uri": "https://localhost:8080/"
        },
        "outputId": "b7476850-8848-46c0-9762-a886ad7b55bd"
      },
      "execution_count": 20,
      "outputs": [
        {
          "output_type": "stream",
          "name": "stdout",
          "text": [
            "Model: \"sequential\"\n",
            "_________________________________________________________________\n",
            " Layer (type)                Output Shape              Param #   \n",
            "=================================================================\n",
            " dense (Dense)               (None, 128)               4992      \n",
            "                                                                 \n",
            " dropout (Dropout)           (None, 128)               0         \n",
            "                                                                 \n",
            " dense_1 (Dense)             (None, 64)                8256      \n",
            "                                                                 \n",
            " dropout_1 (Dropout)         (None, 64)                0         \n",
            "                                                                 \n",
            " dense_2 (Dense)             (None, 9)                 585       \n",
            "                                                                 \n",
            "=================================================================\n",
            "Total params: 13,833\n",
            "Trainable params: 13,833\n",
            "Non-trainable params: 0\n",
            "_________________________________________________________________\n",
            "None\n"
          ]
        }
      ]
    },
    {
      "cell_type": "code",
      "source": [
        "hist = model.fit(x=X_train, y=y_train, epochs=200, verbose=1)"
      ],
      "metadata": {
        "id": "cGpqs-HGrelu",
        "colab": {
          "base_uri": "https://localhost:8080/"
        },
        "outputId": "396878ed-267a-4398-c232-29e73308f0d8"
      },
      "execution_count": 21,
      "outputs": [
        {
          "output_type": "stream",
          "name": "stdout",
          "text": [
            "Epoch 1/200\n",
            "1/1 [==============================] - 1s 766ms/step - loss: 2.2429 - accuracy: 0.1154\n",
            "Epoch 2/200\n",
            "1/1 [==============================] - 0s 13ms/step - loss: 2.1483 - accuracy: 0.1154\n",
            "Epoch 3/200\n",
            "1/1 [==============================] - 0s 8ms/step - loss: 2.1796 - accuracy: 0.1154\n",
            "Epoch 4/200\n",
            "1/1 [==============================] - 0s 16ms/step - loss: 2.1550 - accuracy: 0.1538\n",
            "Epoch 5/200\n",
            "1/1 [==============================] - 0s 12ms/step - loss: 2.2253 - accuracy: 0.1154\n",
            "Epoch 6/200\n",
            "1/1 [==============================] - 0s 9ms/step - loss: 2.1380 - accuracy: 0.1923\n",
            "Epoch 7/200\n",
            "1/1 [==============================] - 0s 12ms/step - loss: 2.1560 - accuracy: 0.1154\n",
            "Epoch 8/200\n",
            "1/1 [==============================] - 0s 13ms/step - loss: 2.1604 - accuracy: 0.1538\n",
            "Epoch 9/200\n",
            "1/1 [==============================] - 0s 16ms/step - loss: 2.1224 - accuracy: 0.2308\n",
            "Epoch 10/200\n",
            "1/1 [==============================] - 0s 9ms/step - loss: 2.1113 - accuracy: 0.1154\n",
            "Epoch 11/200\n",
            "1/1 [==============================] - 0s 9ms/step - loss: 2.1724 - accuracy: 0.1923\n",
            "Epoch 12/200\n",
            "1/1 [==============================] - 0s 9ms/step - loss: 2.1355 - accuracy: 0.1923\n",
            "Epoch 13/200\n",
            "1/1 [==============================] - 0s 9ms/step - loss: 2.0668 - accuracy: 0.1923\n",
            "Epoch 14/200\n",
            "1/1 [==============================] - 0s 9ms/step - loss: 2.0717 - accuracy: 0.3462\n",
            "Epoch 15/200\n",
            "1/1 [==============================] - 0s 9ms/step - loss: 2.0451 - accuracy: 0.2692\n",
            "Epoch 16/200\n",
            "1/1 [==============================] - 0s 10ms/step - loss: 2.1678 - accuracy: 0.1154\n",
            "Epoch 17/200\n",
            "1/1 [==============================] - 0s 10ms/step - loss: 2.0336 - accuracy: 0.3077\n",
            "Epoch 18/200\n",
            "1/1 [==============================] - 0s 11ms/step - loss: 2.0284 - accuracy: 0.2692\n",
            "Epoch 19/200\n",
            "1/1 [==============================] - 0s 11ms/step - loss: 2.0015 - accuracy: 0.3462\n",
            "Epoch 20/200\n",
            "1/1 [==============================] - 0s 12ms/step - loss: 2.0557 - accuracy: 0.2692\n",
            "Epoch 21/200\n",
            "1/1 [==============================] - 0s 10ms/step - loss: 2.0323 - accuracy: 0.3077\n",
            "Epoch 22/200\n",
            "1/1 [==============================] - 0s 13ms/step - loss: 1.9798 - accuracy: 0.5769\n",
            "Epoch 23/200\n",
            "1/1 [==============================] - 0s 10ms/step - loss: 2.0077 - accuracy: 0.3077\n",
            "Epoch 24/200\n",
            "1/1 [==============================] - 0s 10ms/step - loss: 2.0565 - accuracy: 0.4615\n",
            "Epoch 25/200\n",
            "1/1 [==============================] - 0s 12ms/step - loss: 1.9988 - accuracy: 0.3846\n",
            "Epoch 26/200\n",
            "1/1 [==============================] - 0s 17ms/step - loss: 1.9421 - accuracy: 0.5769\n",
            "Epoch 27/200\n",
            "1/1 [==============================] - 0s 9ms/step - loss: 1.9134 - accuracy: 0.5000\n",
            "Epoch 28/200\n",
            "1/1 [==============================] - 0s 10ms/step - loss: 1.9445 - accuracy: 0.3077\n",
            "Epoch 29/200\n",
            "1/1 [==============================] - 0s 9ms/step - loss: 1.8865 - accuracy: 0.4231\n",
            "Epoch 30/200\n",
            "1/1 [==============================] - 0s 10ms/step - loss: 1.8925 - accuracy: 0.3846\n",
            "Epoch 31/200\n",
            "1/1 [==============================] - 0s 10ms/step - loss: 1.9930 - accuracy: 0.3846\n",
            "Epoch 32/200\n",
            "1/1 [==============================] - 0s 10ms/step - loss: 1.8778 - accuracy: 0.5385\n",
            "Epoch 33/200\n",
            "1/1 [==============================] - 0s 10ms/step - loss: 1.8754 - accuracy: 0.3462\n",
            "Epoch 34/200\n",
            "1/1 [==============================] - 0s 10ms/step - loss: 1.9556 - accuracy: 0.3846\n",
            "Epoch 35/200\n",
            "1/1 [==============================] - 0s 9ms/step - loss: 1.9028 - accuracy: 0.3846\n",
            "Epoch 36/200\n",
            "1/1 [==============================] - 0s 10ms/step - loss: 1.8463 - accuracy: 0.3462\n",
            "Epoch 37/200\n",
            "1/1 [==============================] - 0s 10ms/step - loss: 1.8385 - accuracy: 0.4231\n",
            "Epoch 38/200\n",
            "1/1 [==============================] - 0s 13ms/step - loss: 1.7757 - accuracy: 0.5769\n",
            "Epoch 39/200\n",
            "1/1 [==============================] - 0s 14ms/step - loss: 1.8522 - accuracy: 0.5769\n",
            "Epoch 40/200\n",
            "1/1 [==============================] - 0s 17ms/step - loss: 1.8006 - accuracy: 0.6538\n",
            "Epoch 41/200\n",
            "1/1 [==============================] - 0s 12ms/step - loss: 1.7732 - accuracy: 0.5385\n",
            "Epoch 42/200\n",
            "1/1 [==============================] - 0s 11ms/step - loss: 1.7716 - accuracy: 0.5769\n",
            "Epoch 43/200\n",
            "1/1 [==============================] - 0s 11ms/step - loss: 1.8275 - accuracy: 0.4615\n",
            "Epoch 44/200\n",
            "1/1 [==============================] - 0s 11ms/step - loss: 1.6518 - accuracy: 0.6923\n",
            "Epoch 45/200\n",
            "1/1 [==============================] - 0s 12ms/step - loss: 1.7361 - accuracy: 0.5385\n",
            "Epoch 46/200\n",
            "1/1 [==============================] - 0s 10ms/step - loss: 1.7717 - accuracy: 0.5385\n",
            "Epoch 47/200\n",
            "1/1 [==============================] - 0s 16ms/step - loss: 1.8199 - accuracy: 0.5385\n",
            "Epoch 48/200\n",
            "1/1 [==============================] - 0s 9ms/step - loss: 1.7365 - accuracy: 0.5000\n",
            "Epoch 49/200\n",
            "1/1 [==============================] - 0s 9ms/step - loss: 1.7324 - accuracy: 0.5385\n",
            "Epoch 50/200\n",
            "1/1 [==============================] - 0s 10ms/step - loss: 1.6485 - accuracy: 0.5000\n",
            "Epoch 51/200\n",
            "1/1 [==============================] - 0s 10ms/step - loss: 1.6551 - accuracy: 0.5769\n",
            "Epoch 52/200\n",
            "1/1 [==============================] - 0s 10ms/step - loss: 1.6588 - accuracy: 0.5385\n",
            "Epoch 53/200\n",
            "1/1 [==============================] - 0s 10ms/step - loss: 1.5397 - accuracy: 0.6154\n",
            "Epoch 54/200\n",
            "1/1 [==============================] - 0s 11ms/step - loss: 1.7211 - accuracy: 0.3462\n",
            "Epoch 55/200\n",
            "1/1 [==============================] - 0s 16ms/step - loss: 1.6321 - accuracy: 0.6154\n",
            "Epoch 56/200\n",
            "1/1 [==============================] - 0s 10ms/step - loss: 1.6601 - accuracy: 0.5769\n",
            "Epoch 57/200\n",
            "1/1 [==============================] - 0s 9ms/step - loss: 1.5097 - accuracy: 0.7308\n",
            "Epoch 58/200\n",
            "1/1 [==============================] - 0s 10ms/step - loss: 1.6691 - accuracy: 0.5000\n",
            "Epoch 59/200\n",
            "1/1 [==============================] - 0s 10ms/step - loss: 1.5209 - accuracy: 0.6538\n",
            "Epoch 60/200\n",
            "1/1 [==============================] - 0s 10ms/step - loss: 1.5047 - accuracy: 0.5769\n",
            "Epoch 61/200\n",
            "1/1 [==============================] - 0s 9ms/step - loss: 1.5725 - accuracy: 0.5385\n",
            "Epoch 62/200\n",
            "1/1 [==============================] - 0s 10ms/step - loss: 1.4624 - accuracy: 0.6923\n",
            "Epoch 63/200\n",
            "1/1 [==============================] - 0s 10ms/step - loss: 1.4404 - accuracy: 0.6538\n",
            "Epoch 64/200\n",
            "1/1 [==============================] - 0s 17ms/step - loss: 1.4973 - accuracy: 0.8462\n",
            "Epoch 65/200\n",
            "1/1 [==============================] - 0s 9ms/step - loss: 1.4359 - accuracy: 0.6923\n",
            "Epoch 66/200\n",
            "1/1 [==============================] - 0s 9ms/step - loss: 1.3519 - accuracy: 0.8077\n",
            "Epoch 67/200\n",
            "1/1 [==============================] - 0s 9ms/step - loss: 1.3383 - accuracy: 0.7692\n",
            "Epoch 68/200\n",
            "1/1 [==============================] - 0s 9ms/step - loss: 1.5473 - accuracy: 0.5000\n",
            "Epoch 69/200\n",
            "1/1 [==============================] - 0s 10ms/step - loss: 1.3918 - accuracy: 0.6538\n",
            "Epoch 70/200\n",
            "1/1 [==============================] - 0s 11ms/step - loss: 1.4538 - accuracy: 0.6923\n",
            "Epoch 71/200\n",
            "1/1 [==============================] - 0s 9ms/step - loss: 1.4739 - accuracy: 0.5769\n",
            "Epoch 72/200\n",
            "1/1 [==============================] - 0s 9ms/step - loss: 1.4347 - accuracy: 0.6538\n",
            "Epoch 73/200\n",
            "1/1 [==============================] - 0s 9ms/step - loss: 1.2892 - accuracy: 0.8462\n",
            "Epoch 74/200\n",
            "1/1 [==============================] - 0s 9ms/step - loss: 1.4423 - accuracy: 0.6154\n",
            "Epoch 75/200\n",
            "1/1 [==============================] - 0s 9ms/step - loss: 1.3080 - accuracy: 0.7308\n",
            "Epoch 76/200\n",
            "1/1 [==============================] - 0s 10ms/step - loss: 1.3392 - accuracy: 0.8077\n",
            "Epoch 77/200\n",
            "1/1 [==============================] - 0s 9ms/step - loss: 1.1741 - accuracy: 0.8846\n",
            "Epoch 78/200\n",
            "1/1 [==============================] - 0s 10ms/step - loss: 1.2351 - accuracy: 0.8462\n",
            "Epoch 79/200\n",
            "1/1 [==============================] - 0s 10ms/step - loss: 1.1544 - accuracy: 0.8462\n",
            "Epoch 80/200\n",
            "1/1 [==============================] - 0s 9ms/step - loss: 1.2199 - accuracy: 0.8077\n",
            "Epoch 81/200\n",
            "1/1 [==============================] - 0s 9ms/step - loss: 1.2345 - accuracy: 0.6923\n",
            "Epoch 82/200\n",
            "1/1 [==============================] - 0s 9ms/step - loss: 1.1416 - accuracy: 0.8077\n",
            "Epoch 83/200\n",
            "1/1 [==============================] - 0s 8ms/step - loss: 1.1154 - accuracy: 0.8846\n",
            "Epoch 84/200\n",
            "1/1 [==============================] - 0s 8ms/step - loss: 1.1855 - accuracy: 0.7308\n",
            "Epoch 85/200\n",
            "1/1 [==============================] - 0s 17ms/step - loss: 1.1253 - accuracy: 0.8462\n",
            "Epoch 86/200\n",
            "1/1 [==============================] - 0s 8ms/step - loss: 1.1625 - accuracy: 0.6923\n",
            "Epoch 87/200\n",
            "1/1 [==============================] - 0s 9ms/step - loss: 1.0728 - accuracy: 0.7308\n",
            "Epoch 88/200\n",
            "1/1 [==============================] - 0s 9ms/step - loss: 0.9732 - accuracy: 0.8077\n",
            "Epoch 89/200\n",
            "1/1 [==============================] - 0s 9ms/step - loss: 1.1351 - accuracy: 0.6923\n",
            "Epoch 90/200\n",
            "1/1 [==============================] - 0s 8ms/step - loss: 1.0948 - accuracy: 0.8846\n",
            "Epoch 91/200\n",
            "1/1 [==============================] - 0s 9ms/step - loss: 1.0917 - accuracy: 0.7692\n",
            "Epoch 92/200\n",
            "1/1 [==============================] - 0s 9ms/step - loss: 0.9530 - accuracy: 0.8077\n",
            "Epoch 93/200\n",
            "1/1 [==============================] - 0s 8ms/step - loss: 1.0547 - accuracy: 0.6923\n",
            "Epoch 94/200\n",
            "1/1 [==============================] - 0s 8ms/step - loss: 1.0319 - accuracy: 0.7692\n",
            "Epoch 95/200\n",
            "1/1 [==============================] - 0s 8ms/step - loss: 1.0303 - accuracy: 0.8077\n",
            "Epoch 96/200\n",
            "1/1 [==============================] - 0s 9ms/step - loss: 0.9262 - accuracy: 0.8846\n",
            "Epoch 97/200\n",
            "1/1 [==============================] - 0s 9ms/step - loss: 0.9454 - accuracy: 0.7308\n",
            "Epoch 98/200\n",
            "1/1 [==============================] - 0s 9ms/step - loss: 1.0486 - accuracy: 0.8077\n",
            "Epoch 99/200\n",
            "1/1 [==============================] - 0s 9ms/step - loss: 1.0601 - accuracy: 0.8077\n",
            "Epoch 100/200\n",
            "1/1 [==============================] - 0s 9ms/step - loss: 0.8703 - accuracy: 0.8462\n",
            "Epoch 101/200\n",
            "1/1 [==============================] - 0s 9ms/step - loss: 1.0100 - accuracy: 0.8077\n",
            "Epoch 102/200\n",
            "1/1 [==============================] - 0s 9ms/step - loss: 0.8115 - accuracy: 0.9231\n",
            "Epoch 103/200\n",
            "1/1 [==============================] - 0s 11ms/step - loss: 0.8863 - accuracy: 0.8462\n",
            "Epoch 104/200\n",
            "1/1 [==============================] - 0s 9ms/step - loss: 0.8580 - accuracy: 0.8462\n",
            "Epoch 105/200\n",
            "1/1 [==============================] - 0s 9ms/step - loss: 0.7960 - accuracy: 0.8846\n",
            "Epoch 106/200\n",
            "1/1 [==============================] - 0s 9ms/step - loss: 0.7891 - accuracy: 0.8846\n",
            "Epoch 107/200\n",
            "1/1 [==============================] - 0s 9ms/step - loss: 0.9302 - accuracy: 0.9231\n",
            "Epoch 108/200\n",
            "1/1 [==============================] - 0s 9ms/step - loss: 0.7242 - accuracy: 0.9231\n",
            "Epoch 109/200\n",
            "1/1 [==============================] - 0s 9ms/step - loss: 0.7505 - accuracy: 0.8846\n",
            "Epoch 110/200\n",
            "1/1 [==============================] - 0s 9ms/step - loss: 0.8180 - accuracy: 0.8846\n",
            "Epoch 111/200\n",
            "1/1 [==============================] - 0s 9ms/step - loss: 0.8413 - accuracy: 0.8077\n",
            "Epoch 112/200\n",
            "1/1 [==============================] - 0s 9ms/step - loss: 0.6665 - accuracy: 0.9231\n",
            "Epoch 113/200\n",
            "1/1 [==============================] - 0s 9ms/step - loss: 0.7612 - accuracy: 0.8462\n",
            "Epoch 114/200\n",
            "1/1 [==============================] - 0s 9ms/step - loss: 0.9326 - accuracy: 0.7692\n",
            "Epoch 115/200\n",
            "1/1 [==============================] - 0s 9ms/step - loss: 0.6332 - accuracy: 1.0000\n",
            "Epoch 116/200\n",
            "1/1 [==============================] - 0s 8ms/step - loss: 0.7079 - accuracy: 0.8462\n",
            "Epoch 117/200\n",
            "1/1 [==============================] - 0s 9ms/step - loss: 0.6603 - accuracy: 0.9231\n",
            "Epoch 118/200\n",
            "1/1 [==============================] - 0s 8ms/step - loss: 0.6852 - accuracy: 0.8846\n",
            "Epoch 119/200\n",
            "1/1 [==============================] - 0s 9ms/step - loss: 0.6297 - accuracy: 0.9615\n",
            "Epoch 120/200\n",
            "1/1 [==============================] - 0s 8ms/step - loss: 0.6313 - accuracy: 0.9231\n",
            "Epoch 121/200\n",
            "1/1 [==============================] - 0s 9ms/step - loss: 0.7094 - accuracy: 0.8846\n",
            "Epoch 122/200\n",
            "1/1 [==============================] - 0s 9ms/step - loss: 0.6472 - accuracy: 0.8462\n",
            "Epoch 123/200\n",
            "1/1 [==============================] - 0s 8ms/step - loss: 0.6460 - accuracy: 0.8846\n",
            "Epoch 124/200\n",
            "1/1 [==============================] - 0s 8ms/step - loss: 0.6438 - accuracy: 0.9231\n",
            "Epoch 125/200\n",
            "1/1 [==============================] - 0s 8ms/step - loss: 0.6399 - accuracy: 0.9231\n",
            "Epoch 126/200\n",
            "1/1 [==============================] - 0s 8ms/step - loss: 0.6057 - accuracy: 0.8462\n",
            "Epoch 127/200\n",
            "1/1 [==============================] - 0s 8ms/step - loss: 0.5831 - accuracy: 0.9231\n",
            "Epoch 128/200\n",
            "1/1 [==============================] - 0s 9ms/step - loss: 0.5070 - accuracy: 1.0000\n",
            "Epoch 129/200\n",
            "1/1 [==============================] - 0s 9ms/step - loss: 0.6803 - accuracy: 0.8462\n",
            "Epoch 130/200\n",
            "1/1 [==============================] - 0s 9ms/step - loss: 0.5371 - accuracy: 0.9231\n",
            "Epoch 131/200\n",
            "1/1 [==============================] - 0s 9ms/step - loss: 0.4764 - accuracy: 0.9615\n",
            "Epoch 132/200\n",
            "1/1 [==============================] - 0s 8ms/step - loss: 0.6259 - accuracy: 0.9231\n",
            "Epoch 133/200\n",
            "1/1 [==============================] - 0s 8ms/step - loss: 0.4395 - accuracy: 0.9615\n",
            "Epoch 134/200\n",
            "1/1 [==============================] - 0s 8ms/step - loss: 0.5090 - accuracy: 0.8846\n",
            "Epoch 135/200\n",
            "1/1 [==============================] - 0s 12ms/step - loss: 0.4444 - accuracy: 0.9615\n",
            "Epoch 136/200\n",
            "1/1 [==============================] - 0s 9ms/step - loss: 0.4679 - accuracy: 0.9231\n",
            "Epoch 137/200\n",
            "1/1 [==============================] - 0s 8ms/step - loss: 0.5589 - accuracy: 0.9231\n",
            "Epoch 138/200\n",
            "1/1 [==============================] - 0s 8ms/step - loss: 0.3882 - accuracy: 1.0000\n",
            "Epoch 139/200\n",
            "1/1 [==============================] - 0s 15ms/step - loss: 0.5550 - accuracy: 0.8846\n",
            "Epoch 140/200\n",
            "1/1 [==============================] - 0s 9ms/step - loss: 0.6183 - accuracy: 0.8462\n",
            "Epoch 141/200\n",
            "1/1 [==============================] - 0s 9ms/step - loss: 0.5192 - accuracy: 0.9615\n",
            "Epoch 142/200\n",
            "1/1 [==============================] - 0s 9ms/step - loss: 0.5896 - accuracy: 0.8846\n",
            "Epoch 143/200\n",
            "1/1 [==============================] - 0s 9ms/step - loss: 0.5442 - accuracy: 0.9615\n",
            "Epoch 144/200\n",
            "1/1 [==============================] - 0s 9ms/step - loss: 0.4943 - accuracy: 0.8846\n",
            "Epoch 145/200\n",
            "1/1 [==============================] - 0s 8ms/step - loss: 0.4670 - accuracy: 0.9615\n",
            "Epoch 146/200\n",
            "1/1 [==============================] - 0s 8ms/step - loss: 0.5209 - accuracy: 0.8846\n",
            "Epoch 147/200\n",
            "1/1 [==============================] - 0s 9ms/step - loss: 0.4890 - accuracy: 0.9231\n",
            "Epoch 148/200\n",
            "1/1 [==============================] - 0s 8ms/step - loss: 0.4303 - accuracy: 0.9615\n",
            "Epoch 149/200\n",
            "1/1 [==============================] - 0s 8ms/step - loss: 0.4989 - accuracy: 0.9231\n",
            "Epoch 150/200\n",
            "1/1 [==============================] - 0s 8ms/step - loss: 0.5682 - accuracy: 0.8846\n",
            "Epoch 151/200\n",
            "1/1 [==============================] - 0s 116ms/step - loss: 0.3085 - accuracy: 1.0000\n",
            "Epoch 152/200\n",
            "1/1 [==============================] - 0s 7ms/step - loss: 0.3075 - accuracy: 0.9615\n",
            "Epoch 153/200\n",
            "1/1 [==============================] - 0s 7ms/step - loss: 0.4098 - accuracy: 0.9615\n",
            "Epoch 154/200\n",
            "1/1 [==============================] - 0s 7ms/step - loss: 0.2838 - accuracy: 0.9615\n",
            "Epoch 155/200\n",
            "1/1 [==============================] - 0s 8ms/step - loss: 0.4205 - accuracy: 0.9615\n",
            "Epoch 156/200\n",
            "1/1 [==============================] - 0s 13ms/step - loss: 0.3261 - accuracy: 0.9615\n",
            "Epoch 157/200\n",
            "1/1 [==============================] - 0s 12ms/step - loss: 0.4456 - accuracy: 0.8846\n",
            "Epoch 158/200\n",
            "1/1 [==============================] - 0s 11ms/step - loss: 0.2874 - accuracy: 1.0000\n",
            "Epoch 159/200\n",
            "1/1 [==============================] - 0s 9ms/step - loss: 0.3703 - accuracy: 0.9615\n",
            "Epoch 160/200\n",
            "1/1 [==============================] - 0s 8ms/step - loss: 0.3599 - accuracy: 0.9231\n",
            "Epoch 161/200\n",
            "1/1 [==============================] - 0s 8ms/step - loss: 0.3522 - accuracy: 0.9231\n",
            "Epoch 162/200\n",
            "1/1 [==============================] - 0s 8ms/step - loss: 0.4490 - accuracy: 0.9615\n",
            "Epoch 163/200\n",
            "1/1 [==============================] - 0s 8ms/step - loss: 0.2711 - accuracy: 1.0000\n",
            "Epoch 164/200\n",
            "1/1 [==============================] - 0s 8ms/step - loss: 0.3648 - accuracy: 0.9615\n",
            "Epoch 165/200\n",
            "1/1 [==============================] - 0s 9ms/step - loss: 0.3468 - accuracy: 0.9231\n",
            "Epoch 166/200\n",
            "1/1 [==============================] - 0s 9ms/step - loss: 0.3037 - accuracy: 0.9615\n",
            "Epoch 167/200\n",
            "1/1 [==============================] - 0s 9ms/step - loss: 0.3353 - accuracy: 0.9231\n",
            "Epoch 168/200\n",
            "1/1 [==============================] - 0s 9ms/step - loss: 0.2749 - accuracy: 1.0000\n",
            "Epoch 169/200\n",
            "1/1 [==============================] - 0s 7ms/step - loss: 0.2966 - accuracy: 1.0000\n",
            "Epoch 170/200\n",
            "1/1 [==============================] - 0s 8ms/step - loss: 0.2517 - accuracy: 1.0000\n",
            "Epoch 171/200\n",
            "1/1 [==============================] - 0s 8ms/step - loss: 0.2485 - accuracy: 1.0000\n",
            "Epoch 172/200\n",
            "1/1 [==============================] - 0s 8ms/step - loss: 0.2299 - accuracy: 1.0000\n",
            "Epoch 173/200\n",
            "1/1 [==============================] - 0s 8ms/step - loss: 0.2826 - accuracy: 0.9615\n",
            "Epoch 174/200\n",
            "1/1 [==============================] - 0s 8ms/step - loss: 0.2859 - accuracy: 0.9615\n",
            "Epoch 175/200\n",
            "1/1 [==============================] - 0s 8ms/step - loss: 0.3814 - accuracy: 0.9615\n",
            "Epoch 176/200\n",
            "1/1 [==============================] - 0s 8ms/step - loss: 0.2469 - accuracy: 1.0000\n",
            "Epoch 177/200\n",
            "1/1 [==============================] - 0s 15ms/step - loss: 0.2970 - accuracy: 1.0000\n",
            "Epoch 178/200\n",
            "1/1 [==============================] - 0s 9ms/step - loss: 0.2594 - accuracy: 0.9615\n",
            "Epoch 179/200\n",
            "1/1 [==============================] - 0s 10ms/step - loss: 0.2933 - accuracy: 0.9615\n",
            "Epoch 180/200\n",
            "1/1 [==============================] - 0s 10ms/step - loss: 0.3719 - accuracy: 0.8846\n",
            "Epoch 181/200\n",
            "1/1 [==============================] - 0s 9ms/step - loss: 0.3497 - accuracy: 0.9615\n",
            "Epoch 182/200\n",
            "1/1 [==============================] - 0s 9ms/step - loss: 0.2368 - accuracy: 1.0000\n",
            "Epoch 183/200\n",
            "1/1 [==============================] - 0s 10ms/step - loss: 0.3873 - accuracy: 0.8846\n",
            "Epoch 184/200\n",
            "1/1 [==============================] - 0s 9ms/step - loss: 0.1950 - accuracy: 1.0000\n",
            "Epoch 185/200\n",
            "1/1 [==============================] - 0s 9ms/step - loss: 0.2441 - accuracy: 0.9231\n",
            "Epoch 186/200\n",
            "1/1 [==============================] - 0s 9ms/step - loss: 0.3289 - accuracy: 0.9231\n",
            "Epoch 187/200\n",
            "1/1 [==============================] - 0s 9ms/step - loss: 0.2499 - accuracy: 0.9231\n",
            "Epoch 188/200\n",
            "1/1 [==============================] - 0s 9ms/step - loss: 0.1601 - accuracy: 1.0000\n",
            "Epoch 189/200\n",
            "1/1 [==============================] - 0s 8ms/step - loss: 0.2398 - accuracy: 1.0000\n",
            "Epoch 190/200\n",
            "1/1 [==============================] - 0s 9ms/step - loss: 0.2834 - accuracy: 0.9615\n",
            "Epoch 191/200\n",
            "1/1 [==============================] - 0s 8ms/step - loss: 0.2648 - accuracy: 1.0000\n",
            "Epoch 192/200\n",
            "1/1 [==============================] - 0s 8ms/step - loss: 0.2867 - accuracy: 0.9231\n",
            "Epoch 193/200\n",
            "1/1 [==============================] - 0s 8ms/step - loss: 0.2342 - accuracy: 1.0000\n",
            "Epoch 194/200\n",
            "1/1 [==============================] - 0s 8ms/step - loss: 0.2298 - accuracy: 1.0000\n",
            "Epoch 195/200\n",
            "1/1 [==============================] - 0s 8ms/step - loss: 0.1898 - accuracy: 1.0000\n",
            "Epoch 196/200\n",
            "1/1 [==============================] - 0s 12ms/step - loss: 0.1542 - accuracy: 1.0000\n",
            "Epoch 197/200\n",
            "1/1 [==============================] - 0s 9ms/step - loss: 0.1606 - accuracy: 1.0000\n",
            "Epoch 198/200\n",
            "1/1 [==============================] - 0s 8ms/step - loss: 0.1882 - accuracy: 1.0000\n",
            "Epoch 199/200\n",
            "1/1 [==============================] - 0s 8ms/step - loss: 0.2868 - accuracy: 0.9615\n",
            "Epoch 200/200\n",
            "1/1 [==============================] - 0s 7ms/step - loss: 0.2331 - accuracy: 1.0000\n"
          ]
        }
      ]
    },
    {
      "cell_type": "markdown",
      "source": [
        "# Utilizar modelo\n",
        "<img src=\"https://raw.githubusercontent.com/InoveAlumnos/dataset_analytics_python/master/images/Pipeline6.png\" width=\"1000\" align=\"middle\">"
      ],
      "metadata": {
        "id": "X8Mt0k2auCYn"
      }
    },
    {
      "cell_type": "code",
      "source": [
        "responses = [[\"\"]] * len(classes)\n",
        "for intent in data[\"intents\"]:\n",
        "    responses[classes.index(intent[\"tag\"])] = intent[\"responses\"]\n",
        "\n",
        "responses"
      ],
      "metadata": {
        "id": "JtkB3SyV55_w",
        "colab": {
          "base_uri": "https://localhost:8080/"
        },
        "outputId": "7e8ec2d2-8748-44eb-9211-2c8b87b02288"
      },
      "execution_count": 22,
      "outputs": [
        {
          "output_type": "execute_result",
          "data": {
            "text/plain": [
              "[['Por nada!, cualquier otra consulta podes escribirnos'],\n",
              " ['Hola!', 'Hola, ¿Cómo estás?'],\n",
              " ['Podes contactarnos al siguiente número +54-9-11-2154-4777',\n",
              "  'Contactonos al whatsapp número +54-9-11-2154-4777'],\n",
              " ['Hasta luego!', 'Hablamos luego!'],\n",
              " ['Los envios se realizan por correo, lo enviaremos a la dirección que registraste en la página'],\n",
              " ['Mi nombre es MarvelBOT', 'Yo soy MarvelBOT'],\n",
              " ['Contactanos al whatsapp número +54-9-11-2154-4777 para conocer los beneficios y formas de pago vigentes'],\n",
              " ['En el catálogo podrás encontrar los precios de todos nuestros productos en stock'],\n",
              " ['Los productos publicados están en stock']]"
            ]
          },
          "metadata": {},
          "execution_count": 22
        }
      ]
    },
    {
      "cell_type": "code",
      "source": [
        "for i in range(5):\n",
        "    message = input(\"\")\n",
        "    print(\"Q:\", message)\n",
        "    # preprocesamiento + lematizacion\n",
        "    # ------------------------------------------\n",
        "    # Transformar la pregunta (input) en tokens y lematizar\n",
        "    lemma_words = []\n",
        "    tokens = preprocess_clean_text(message).split(\" \")\n",
        "    for token in tokens:\n",
        "        lemma = lemma_lookupTable.get(token)\n",
        "        if lemma is not None:\n",
        "            lemma_words.append(lemma)\n",
        "\n",
        "    # Transformar los tokens en \"Bag of words\" (arrays de 1 y 0)\n",
        "    bow = []\n",
        "    for word in vocab:\n",
        "        bow.append(1) if word in lemma_words else bow.append(0)\n",
        "    # ------------------------------------------\n",
        "\n",
        "    probs = model.predict([bow])\n",
        "    score = probs.max()\n",
        "    if score > 0.4:  # threshold 0.4        \n",
        "        index = probs.argmax(axis=1)[0]\n",
        "        result = random.choice(responses[index])\n",
        "        print(f\"BOT [{score:.2f}]: {result}\")\n",
        "    else:\n",
        "        print(f\"BOT [{score:.2f}] Perdon, no comprendo la pregunta.\")"
      ],
      "metadata": {
        "id": "6WRHqo7ZwSZq",
        "colab": {
          "base_uri": "https://localhost:8080/"
        },
        "outputId": "cc3a6318-eb25-4adf-dabd-c472dd73d6bf"
      },
      "execution_count": 23,
      "outputs": [
        {
          "output_type": "stream",
          "name": "stdout",
          "text": [
            "Hola\n",
            "Q: Hola\n",
            "BOT [0.87]: Hola!\n",
            "Quiero hacer un pedido\n",
            "Q: Quiero hacer un pedido\n",
            "BOT [0.16] Perdon, no comprendo la pregunta.\n",
            "Cuanto vale\n",
            "Q: Cuanto vale\n",
            "BOT [0.99]: En el catálogo podrás encontrar los precios de todos nuestros productos en stock\n",
            "Gracias!\n",
            "Q: Gracias!\n",
            "BOT [0.92]: Por nada!, cualquier otra consulta podes escribirnos\n",
            "TU nombre es?\n",
            "Q: TU nombre es?\n",
            "BOT [0.93]: Mi nombre es MarvelBOT\n"
          ]
        }
      ]
    },
    {
      "cell_type": "markdown",
      "source": [
        "# Descargar modelo\n",
        "<img src=\"https://raw.githubusercontent.com/InoveAlumnos/dataset_analytics_python/master/images/Pipeline7.png\" width=\"1000\" align=\"middle\">"
      ],
      "metadata": {
        "id": "3PBdU_NM3C6i"
      }
    },
    {
      "cell_type": "code",
      "source": [
        "# Exportar los datos importants (vocabulario, clases, el bot y el dataset utilizado)\n",
        "import pickle\n",
        "import json\n",
        "\n",
        "pickle.dump(vocab, open('vocab.pkl','wb'))\n",
        "pickle.dump(responses, open('responses.pkl','wb'))\n",
        "model.save('bot.h5')"
      ],
      "metadata": {
        "id": "hTAnBNxF3LyB"
      },
      "execution_count": 24,
      "outputs": []
    },
    {
      "cell_type": "code",
      "source": [
        "# Comprimir todos los datos necesarios\n",
        "!zip -r bot_data.zip bot.h5 vocab.pkl responses.pkl lematizacion-es.pickle"
      ],
      "metadata": {
        "colab": {
          "base_uri": "https://localhost:8080/"
        },
        "id": "MUlLoJoS3NmH",
        "outputId": "8587450c-e4f2-4920-f6e5-fdaca272e156"
      },
      "execution_count": 25,
      "outputs": [
        {
          "output_type": "stream",
          "name": "stdout",
          "text": [
            "  adding: bot.h5 (deflated 29%)\n",
            "  adding: vocab.pkl (deflated 40%)\n",
            "  adding: responses.pkl (deflated 37%)\n",
            "  adding: lematizacion-es.pickle (deflated 77%)\n"
          ]
        }
      ]
    },
    {
      "cell_type": "code",
      "source": [
        "from google.colab import files\n",
        "files.download('bot_data.zip') "
      ],
      "metadata": {
        "colab": {
          "base_uri": "https://localhost:8080/",
          "height": 17
        },
        "id": "X1kfasjU3CPm",
        "outputId": "da089b76-2d27-4a3f-d571-ad9081bf0a25"
      },
      "execution_count": 26,
      "outputs": [
        {
          "output_type": "display_data",
          "data": {
            "text/plain": [
              "<IPython.core.display.Javascript object>"
            ],
            "application/javascript": [
              "\n",
              "    async function download(id, filename, size) {\n",
              "      if (!google.colab.kernel.accessAllowed) {\n",
              "        return;\n",
              "      }\n",
              "      const div = document.createElement('div');\n",
              "      const label = document.createElement('label');\n",
              "      label.textContent = `Downloading \"${filename}\": `;\n",
              "      div.appendChild(label);\n",
              "      const progress = document.createElement('progress');\n",
              "      progress.max = size;\n",
              "      div.appendChild(progress);\n",
              "      document.body.appendChild(div);\n",
              "\n",
              "      const buffers = [];\n",
              "      let downloaded = 0;\n",
              "\n",
              "      const channel = await google.colab.kernel.comms.open(id);\n",
              "      // Send a message to notify the kernel that we're ready.\n",
              "      channel.send({})\n",
              "\n",
              "      for await (const message of channel.messages) {\n",
              "        // Send a message to notify the kernel that we're ready.\n",
              "        channel.send({})\n",
              "        if (message.buffers) {\n",
              "          for (const buffer of message.buffers) {\n",
              "            buffers.push(buffer);\n",
              "            downloaded += buffer.byteLength;\n",
              "            progress.value = downloaded;\n",
              "          }\n",
              "        }\n",
              "      }\n",
              "      const blob = new Blob(buffers, {type: 'application/binary'});\n",
              "      const a = document.createElement('a');\n",
              "      a.href = window.URL.createObjectURL(blob);\n",
              "      a.download = filename;\n",
              "      div.appendChild(a);\n",
              "      a.click();\n",
              "      div.remove();\n",
              "    }\n",
              "  "
            ]
          },
          "metadata": {}
        },
        {
          "output_type": "display_data",
          "data": {
            "text/plain": [
              "<IPython.core.display.Javascript object>"
            ],
            "application/javascript": [
              "download(\"download_40ec3b94-2e36-441b-a842-683f6814ea57\", \"bot_data.zip\", 5565419)"
            ]
          },
          "metadata": {}
        }
      ]
    }
  ]
}